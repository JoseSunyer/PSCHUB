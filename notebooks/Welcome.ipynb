{
 "cells": [
  {
   "cell_type": "markdown",
   "metadata": {
    "collapsed": true
   },
   "source": [
    "# Power Systems Computing Hub\n",
    "\n",
    "## Navigation\n",
    "\n",
    "* [Home](../tree)\n",
    "* [Workspace](../tree/workspace)\n",
    "* [Examples](../tree/examples)\n",
    "\n",
    "## Resources\n",
    "\n",
    "* [GRIDOPT](http://gridopt.readthedocs.io)\n",
    "* [PFNET](http://pfnet-python.readthedocs.io)\n",
    "* [OPTALG](http://optalg.readthedocs.io)\n",
    "* [Jupyter](http://jupyter.org/)\n",
    "* [Python](https://www.python.org/)\n",
    "* [Markdown](https://github.com/adam-p/markdown-here/wiki/Markdown-Cheatsheet)\n",
    "* [Latex](https://tobi.oetiker.ch/lshort/lshort.pdf)"
   ]
  },
  {
   "cell_type": "code",
   "execution_count": null,
   "metadata": {
    "collapsed": true
   },
   "outputs": [],
   "source": []
  }
 ],
 "metadata": {
  "kernelspec": {
   "display_name": "Python 2",
   "language": "python",
   "name": "python2"
  },
  "language_info": {
   "codemirror_mode": {
    "name": "ipython",
    "version": 2
   },
   "file_extension": ".py",
   "mimetype": "text/x-python",
   "name": "python",
   "nbconvert_exporter": "python",
   "pygments_lexer": "ipython2",
   "version": "2.7.6"
  }
 },
 "nbformat": 4,
 "nbformat_minor": 0
}
