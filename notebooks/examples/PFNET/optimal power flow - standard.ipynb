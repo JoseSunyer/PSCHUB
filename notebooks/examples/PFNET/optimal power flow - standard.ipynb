{
 "cells": [
  {
   "cell_type": "markdown",
   "metadata": {},
   "source": [
    "# Standard Optimal Power Flow"
   ]
  },
  {
   "cell_type": "code",
   "execution_count": null,
   "metadata": {
    "collapsed": true
   },
   "outputs": [],
   "source": [
    "import optalg\n",
    "import pfnet"
   ]
  },
  {
   "cell_type": "markdown",
   "metadata": {},
   "source": [
    "## Parse network"
   ]
  },
  {
   "cell_type": "code",
   "execution_count": null,
   "metadata": {
    "collapsed": false
   },
   "outputs": [],
   "source": [
    "parser = pfnet.ParserMAT()\n",
    "net = parser.parse('../../cases/case1354pegase.mat')\n",
    "net.show_components()"
   ]
  },
  {
   "cell_type": "markdown",
   "metadata": {},
   "source": [
    "## Construct problem"
   ]
  },
  {
   "cell_type": "code",
   "execution_count": null,
   "metadata": {
    "collapsed": false
   },
   "outputs": [],
   "source": [
    "net.set_flags('bus',['variable','bounded'],'any','voltage magnitude')\n",
    "net.set_flags('bus','variable','not slack','voltage angle')\n",
    "net.set_flags('generator',['variable','bounded'],'any',['active power','reactive power'])\n",
    "\n",
    "problem = pfnet.Problem()\n",
    "problem.set_network(net)\n",
    "problem.add_function(pfnet.Function('generation cost',1./net.num_generators,net))\n",
    "problem.add_constraint(pfnet.Constraint('AC power balance',net))\n",
    "problem.add_constraint(pfnet.Constraint('variable bounds',net))\n",
    "problem.analyze()\n",
    "problem.show()"
   ]
  },
  {
   "cell_type": "markdown",
   "metadata": {},
   "source": [
    "## Solve problem"
   ]
  },
  {
   "cell_type": "code",
   "execution_count": null,
   "metadata": {
    "collapsed": false
   },
   "outputs": [],
   "source": [
    "solver = optalg.opt_solver.OptSolverAugL()\n",
    "solver.set_parameters({'quiet':True, 'feastol':1e-4,'optol':1e-4})\n",
    "solver.solve(problem)\n",
    "print(solver.get_status(), solver.get_iterations())"
   ]
  },
  {
   "cell_type": "markdown",
   "metadata": {},
   "source": [
    "## Get results"
   ]
  },
  {
   "cell_type": "code",
   "execution_count": null,
   "metadata": {
    "collapsed": false
   },
   "outputs": [],
   "source": [
    "net.update_properties()\n",
    "print(net.gen_P_cost, net.bus_P_mis)\n",
    "net.set_var_values(solver.get_primal_variables())\n",
    "net.update_properties()\n",
    "print(net.gen_P_cost, net.bus_P_mis)"
   ]
  },
  {
   "cell_type": "code",
   "execution_count": null,
   "metadata": {
    "collapsed": true
   },
   "outputs": [],
   "source": []
  }
 ],
 "metadata": {
  "kernelspec": {
   "display_name": "Python 3",
   "language": "python",
   "name": "python3"
  },
  "language_info": {
   "codemirror_mode": {
    "name": "ipython",
    "version": 3
   },
   "file_extension": ".py",
   "mimetype": "text/x-python",
   "name": "python",
   "nbconvert_exporter": "python",
   "pygments_lexer": "ipython3",
   "version": "3.4.3"
  }
 },
 "nbformat": 4,
 "nbformat_minor": 0
}
