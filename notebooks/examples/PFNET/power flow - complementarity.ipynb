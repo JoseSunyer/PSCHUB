{
 "cells": [
  {
   "cell_type": "markdown",
   "metadata": {},
   "source": [
    "# Power Flow with Complementarity Constraints"
   ]
  },
  {
   "cell_type": "code",
   "execution_count": null,
   "metadata": {},
   "outputs": [],
   "source": [
    "import optalg\n",
    "import pfnet"
   ]
  },
  {
   "cell_type": "markdown",
   "metadata": {},
   "source": [
    "## Parse network"
   ]
  },
  {
   "cell_type": "code",
   "execution_count": null,
   "metadata": {},
   "outputs": [],
   "source": [
    "parser = pfnet.ParserMAT()\n",
    "net = parser.parse('../../cases/case3375wp.mat')"
   ]
  },
  {
   "cell_type": "markdown",
   "metadata": {},
   "source": [
    "## Construct problem"
   ]
  },
  {
   "cell_type": "code",
   "execution_count": null,
   "metadata": {},
   "outputs": [],
   "source": [
    "net.set_flags('bus','variable','not slack',['voltage magnitude','voltage angle'])\n",
    "net.set_flags('generator','variable','slack','active power')\n",
    "net.set_flags('generator','variable','regulator','reactive power')\n",
    "\n",
    "problem = pfnet.Problem(net)\n",
    "problem.add_constraint(pfnet.Constraint('AC power balance',net))\n",
    "problem.add_constraint(pfnet.Constraint('generator active power participation',net))\n",
    "problem.add_constraint(pfnet.Constraint('generator reactive power participation',net))\n",
    "problem.add_constraint(pfnet.Constraint('voltage regulation by generators',net))\n",
    "problem.add_function(pfnet.Function('voltage magnitude regularization',1.,net))\n",
    "problem.analyze()\n",
    "problem.show()"
   ]
  },
  {
   "cell_type": "markdown",
   "metadata": {},
   "source": [
    "## Solve problem"
   ]
  },
  {
   "cell_type": "code",
   "execution_count": null,
   "metadata": {},
   "outputs": [],
   "source": [
    "solver = optalg.opt_solver.OptSolverAugL()\n",
    "solver.set_parameters({'quiet':True, 'kappa':1e-5})\n",
    "solver.solve(problem)\n",
    "print(solver.get_status(), solver.get_iterations())"
   ]
  },
  {
   "cell_type": "markdown",
   "metadata": {},
   "source": [
    "## Get results"
   ]
  },
  {
   "cell_type": "code",
   "execution_count": null,
   "metadata": {},
   "outputs": [],
   "source": [
    "net.update_properties()\n",
    "print(net.bus_P_mis, net.bus_Q_mis)\n",
    "net.set_var_values(solver.get_primal_variables())\n",
    "net.update_properties()\n",
    "print(net.bus_P_mis, net.bus_Q_mis)"
   ]
  },
  {
   "cell_type": "code",
   "execution_count": null,
   "metadata": {},
   "outputs": [],
   "source": []
  }
 ],
 "metadata": {
  "kernelspec": {
   "display_name": "Python 3",
   "language": "python",
   "name": "python3"
  },
  "language_info": {
   "codemirror_mode": {
    "name": "ipython",
    "version": 3
   },
   "file_extension": ".py",
   "mimetype": "text/x-python",
   "name": "python",
   "nbconvert_exporter": "python",
   "pygments_lexer": "ipython3",
   "version": "3.5.2"
  }
 },
 "nbformat": 4,
 "nbformat_minor": 1
}
