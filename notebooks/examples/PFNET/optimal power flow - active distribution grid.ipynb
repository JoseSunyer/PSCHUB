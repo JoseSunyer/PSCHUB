{
 "cells": [
  {
   "cell_type": "markdown",
   "metadata": {},
   "source": [
    "# Optimal Power Flow for Active Distribution Grids"
   ]
  },
  {
   "cell_type": "code",
   "execution_count": null,
   "metadata": {
    "collapsed": false
   },
   "outputs": [],
   "source": [
    "import pfnet\n",
    "import optalg\n",
    "import numpy as np\n",
    "import matplotlib.pyplot as plt\n",
    "%matplotlib inline"
   ]
  },
  {
   "cell_type": "markdown",
   "metadata": {},
   "source": [
    "## Parse network"
   ]
  },
  {
   "cell_type": "code",
   "execution_count": null,
   "metadata": {
    "collapsed": false
   },
   "outputs": [],
   "source": [
    "num_periods = 24\n",
    "parser = pfnet.ParserMAT()\n",
    "net = parser.parse('../../cases/case39.mat',num_periods)"
   ]
  },
  {
   "cell_type": "markdown",
   "metadata": {},
   "source": [
    "## Generator ramps"
   ]
  },
  {
   "cell_type": "code",
   "execution_count": null,
   "metadata": {
    "collapsed": false
   },
   "outputs": [],
   "source": [
    "for gen in net.generators:\n",
    "        gen.dP_max = 0.3*(gen.P_max-gen.P_min)"
   ]
  },
  {
   "cell_type": "markdown",
   "metadata": {},
   "source": [
    "## Demand response"
   ]
  },
  {
   "cell_type": "code",
   "execution_count": null,
   "metadata": {
    "collapsed": false
   },
   "outputs": [],
   "source": [
    "for load in net.loads:\n",
    "        load.P_max = 1.1*load.P[0]\n",
    "        load.P_min = 0.9*load.P[0]\n",
    "        load.target_power_factor = 0.9"
   ]
  },
  {
   "cell_type": "markdown",
   "metadata": {},
   "source": [
    "## Renewable energy sources"
   ]
  },
  {
   "cell_type": "code",
   "execution_count": null,
   "metadata": {
    "collapsed": false
   },
   "outputs": [],
   "source": [
    "wind_profile = 0.5*(1+np.cos(np.linspace(0.,2.*np.pi,num_periods)))\n",
    "net.add_var_generators(net.get_load_buses(),50.,100.,0.,0.,0.)\n",
    "for gen in net.var_generators:\n",
    "        gen.P = gen.P[0]*wind_profile\n",
    "        gen.Q_max = 0.1*np.max(gen.P)\n",
    "        gen.Q_min = -0.1*np.max(gen.P)"
   ]
  },
  {
   "cell_type": "markdown",
   "metadata": {},
   "source": [
    "## Batteries"
   ]
  },
  {
   "cell_type": "code",
   "execution_count": null,
   "metadata": {
    "collapsed": false
   },
   "outputs": [],
   "source": [
    "net.add_batteries(net.get_generator_buses(),10.,40.,1.,1.)"
   ]
  },
  {
   "cell_type": "markdown",
   "metadata": {},
   "source": [
    "## Construct problem"
   ]
  },
  {
   "cell_type": "code",
   "execution_count": null,
   "metadata": {
    "collapsed": false
   },
   "outputs": [],
   "source": [
    "net.set_flags('bus',['variable','bounded'],'any','voltage magnitude')\n",
    "net.set_flags('bus','variable','not slack','voltage angle')\n",
    "net.set_flags('generator',['variable','bounded'],'any',['active power','reactive power'])\n",
    "net.set_flags('variable generator',['variable','bounded'],'any',['active power','reactive power'])\n",
    "net.set_flags('battery',['variable','bounded'],'any',['charging power','energy level'])\n",
    "net.set_flags('load',['variable','bounded'],'any',['active power','reactive power'])\n",
    "\n",
    "problem = pfnet.Problem()\n",
    "problem.set_network(net)\n",
    "problem.add_function(pfnet.Function('generation cost',1.,net))\n",
    "problem.add_constraint(pfnet.Constraint('AC power balance',net))\n",
    "problem.add_constraint(pfnet.Constraint('battery dynamics',net))\n",
    "problem.add_constraint(pfnet.Constraint('variable bounds',net))\n",
    "problem.add_constraint(pfnet.Constraint('load constant power factor',net))\n",
    "problem.add_constraint(pfnet.Constraint('generator ramp limits',net))\n",
    "problem.analyze()\n",
    "problem.show()"
   ]
  },
  {
   "cell_type": "markdown",
   "metadata": {},
   "source": [
    "## Solve problem"
   ]
  },
  {
   "cell_type": "code",
   "execution_count": null,
   "metadata": {
    "collapsed": false
   },
   "outputs": [],
   "source": [
    "solver = optalg.opt_solver.OptSolverAugL()\n",
    "solver.set_parameters({'quiet':True})\n",
    "solver.solve(problem)\n",
    "print(solver.get_status(), solver.get_iterations())"
   ]
  },
  {
   "cell_type": "markdown",
   "metadata": {},
   "source": [
    "## Visualize solution"
   ]
  }
 ],
 "metadata": {
  "kernelspec": {
   "display_name": "Python 3",
   "language": "python",
   "name": "python3"
  },
  "language_info": {
   "codemirror_mode": {
    "name": "ipython",
    "version": 3
   },
   "file_extension": ".py",
   "mimetype": "text/x-python",
   "name": "python",
   "nbconvert_exporter": "python",
   "pygments_lexer": "ipython3",
   "version": "3.4.3"
  }
 },
 "nbformat": 4,
 "nbformat_minor": 0
}
