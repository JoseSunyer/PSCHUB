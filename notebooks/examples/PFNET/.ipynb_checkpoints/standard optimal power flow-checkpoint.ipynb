{
 "cells": [
  {
   "cell_type": "markdown",
   "metadata": {},
   "source": [
    "# Standard Optimal Power Flow"
   ]
  },
  {
   "cell_type": "code",
   "execution_count": 122,
   "metadata": {
    "collapsed": true
   },
   "outputs": [],
   "source": [
    "import optalg\n",
    "import pfnet"
   ]
  },
  {
   "cell_type": "markdown",
   "metadata": {},
   "source": [
    "## Parse network"
   ]
  },
  {
   "cell_type": "code",
   "execution_count": 123,
   "metadata": {
    "collapsed": false
   },
   "outputs": [
    {
     "name": "stdout",
     "output_type": "stream",
     "text": [
      "\n",
      "Network Components\n",
      "------------------\n",
      "buses            : 1354\n",
      "  slack          : 1\n",
      "  reg by gen     : 260\n",
      "  reg by tran    : 0\n",
      "  reg by shunt   : 0\n",
      "shunts           : 1082\n",
      "  fixed          : 1082\n",
      "  switched v     : 0\n",
      "branches         : 1991\n",
      "  lines          : 1751\n",
      "  fixed trans    : 240\n",
      "  phase shifters : 0\n",
      "  tap changers v : 0\n",
      "  tap changers Q : 0\n",
      "generators       : 260\n",
      "  slack          : 1\n",
      "  reg            : 260\n",
      "  P adjust       : 260\n",
      "loads            : 673\n",
      "  P adjust       : 0\n",
      "vargens          : 0\n",
      "batteries        : 0\n",
      "\n"
     ]
    }
   ],
   "source": [
    "parser = pfnet.ParserMAT()\n",
    "net = parser.parse('../../cases/case1354pegase.mat')\n",
    "net.show_components()"
   ]
  },
  {
   "cell_type": "markdown",
   "metadata": {},
   "source": [
    "## Construct problem"
   ]
  },
  {
   "cell_type": "code",
   "execution_count": 124,
   "metadata": {
    "collapsed": false
   },
   "outputs": [],
   "source": [
    "net.set_flags('bus',['variable','bounded'],'any','voltage magnitude')\n",
    "net.set_flags('bus','variable','not slack','voltage angle')\n",
    "net.set_flags('generator',['variable','bounded'],'any',['active power','reactive power'])\n",
    "\n",
    "problem = pfnet.Problem()\n",
    "problem.set_network(net)\n",
    "problem.add_function(pfnet.Function('generation cost',1./net.num_generators,net))\n",
    "problem.add_constraint(pfnet.Constraint('AC power balance',net))\n",
    "problem.add_constraint(pfnet.Constraint('variable bounds',net))\n",
    "problem.analyze()"
   ]
  },
  {
   "cell_type": "markdown",
   "metadata": {},
   "source": [
    "## Solve problem"
   ]
  },
  {
   "cell_type": "code",
   "execution_count": 125,
   "metadata": {
    "collapsed": false
   },
   "outputs": [
    {
     "name": "stdout",
     "output_type": "stream",
     "text": [
      "solved\n"
     ]
    }
   ],
   "source": [
    "solver = optalg.opt_solver.OptSolverAugL()\n",
    "solver.set_parameters({'quiet':True, 'feastol':1e-4,'optol':1e-4})\n",
    "solver.solve(problem)\n",
    "print(solver.get_status())"
   ]
  },
  {
   "cell_type": "markdown",
   "metadata": {},
   "source": [
    "## Get results"
   ]
  },
  {
   "cell_type": "code",
   "execution_count": 126,
   "metadata": {
    "collapsed": false
   },
   "outputs": [
    {
     "name": "stdout",
     "output_type": "stream",
     "text": [
      "74752.9399999999 1299.7851457325244\n",
      "73897.79971678853 0.0037510086070113857\n"
     ]
    }
   ],
   "source": [
    "net.update_properties()\n",
    "print(net.gen_P_cost, net.bus_P_mis)\n",
    "net.set_var_values(solver.get_primal_variables())\n",
    "net.update_properties()\n",
    "print(net.gen_P_cost, net.bus_P_mis)"
   ]
  },
  {
   "cell_type": "code",
   "execution_count": null,
   "metadata": {
    "collapsed": true
   },
   "outputs": [],
   "source": []
  }
 ],
 "metadata": {
  "kernelspec": {
   "display_name": "Python 3",
   "language": "python",
   "name": "python3"
  },
  "language_info": {
   "codemirror_mode": {
    "name": "ipython",
    "version": 3
   },
   "file_extension": ".py",
   "mimetype": "text/x-python",
   "name": "python",
   "nbconvert_exporter": "python",
   "pygments_lexer": "ipython3",
   "version": "3.4.3"
  }
 },
 "nbformat": 4,
 "nbformat_minor": 0
}
